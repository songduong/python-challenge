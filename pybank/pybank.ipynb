{
 "cells": [
  {
   "cell_type": "code",
   "execution_count": 118,
   "metadata": {
    "collapsed": true
   },
   "outputs": [],
   "source": [
    "import pandas as pd\n",
    "import numpy as np"
   ]
  },
  {
   "cell_type": "code",
   "execution_count": 122,
   "metadata": {},
   "outputs": [],
   "source": [
    "pybank=\"pybank.csv\"\n",
    "pbf = pd.read_csv(pybank)\n",
    "#pbf=pybank file =] "
   ]
  },
  {
   "cell_type": "code",
   "execution_count": null,
   "metadata": {
    "collapsed": true
   },
   "outputs": [],
   "source": [
    "total_months=len(pbf.Date.unique())"
   ]
  },
  {
   "cell_type": "code",
   "execution_count": null,
   "metadata": {
    "collapsed": true
   },
   "outputs": [],
   "source": [
    "revenue_sum=pbf[\"Revenue\"].sum()"
   ]
  },
  {
   "cell_type": "code",
   "execution_count": null,
   "metadata": {
    "collapsed": true
   },
   "outputs": [],
   "source": [
    "avg_rev_chg=int(pbf[\"Revenue\"].diff().mean())"
   ]
  },
  {
   "cell_type": "code",
   "execution_count": null,
   "metadata": {
    "collapsed": true
   },
   "outputs": [],
   "source": [
    "pbf[\"Rev Dif\"]=pbf[\"Revenue\"].diff()"
   ]
  },
  {
   "cell_type": "code",
   "execution_count": null,
   "metadata": {
    "collapsed": true
   },
   "outputs": [],
   "source": [
    "max_date=pbf.ix[pbf[\"Rev Dif\"].idxmax()]\n",
    "min_date=pbf.ix[pbf[\"Rev Dif\"].idxmin()]"
   ]
  },
  {
   "cell_type": "code",
   "execution_count": null,
   "metadata": {},
   "outputs": [],
   "source": [
    "print(\"Financial Analysis\")\n",
    "print(\"--------------(drum roll)---------------------\")\n",
    "print(\"Total Months: \" + str(total_months))\n",
    "print(\"Total Revenue: \"+ \"$\" + str(revenue_sum))\n",
    "print(\"Average Revenue Change: $\" + str(round(avg_rev_chg)))\n",
    "print(\"Greatest Increase in Revenue: \" + str(max_date[\"Date\"]) + \" \" + \"$\" +str(int(max_date[\"Rev Dif\"])))\n",
    "print(\"Greatest Decrease in Revenue: \" + str(min_date[\"Date\"]) + \" \" + \"$\" +str(int(min_date[\"Rev Dif\"])))"
   ]
  },
  {
   "cell_type": "code",
   "execution_count": null,
   "metadata": {
    "collapsed": true
   },
   "outputs": [],
   "source": []
  }
 ],
 "metadata": {
  "kernelspec": {
   "display_name": "Python 3",
   "language": "python",
   "name": "python3"
  },
  "language_info": {
   "codemirror_mode": {
    "name": "ipython",
    "version": 3
   },
   "file_extension": ".py",
   "mimetype": "text/x-python",
   "name": "python",
   "nbconvert_exporter": "python",
   "pygments_lexer": "ipython3",
   "version": "3.6.1"
  }
 },
 "nbformat": 4,
 "nbformat_minor": 2
}
